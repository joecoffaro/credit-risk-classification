# Import the modules
import numpy as np
import pandas as pd
from pathlib import Path
from sklearn.metrics import confusion_matrix, classification_report











# Read the CSV file from the Resources folder into a Pandas DataFrame
lending_data_df = pd.read_csv('Resources/lending_data.csv')

# Review the DataFrame
lending_data_df.head()





# Separate the data into labels and features

# Separate the y variable, the labels
y = lending_data_df['loan_status']

# Separate the X variable, the features
X = lending_data_df.drop(columns='loan_status')


# Review the y variable Series
y.head(10)


# Review the X variable DataFrame
X.head()





# Import the train_test_learn module
from sklearn.model_selection import train_test_split

# Split the data using train_test_split
# Assign a random_state of 1 to the function
X_train, X_test, y_train, y_test = train_test_split(X, y, random_state=1)











# Import the LogisticRegression module from SKLearn
from sklearn.linear_model import LogisticRegression

# Instantiate the Logistic Regression model
# Assign a random_state parameter of 1 to the model
classifier = LogisticRegression(solver='lbfgs',
                                max_iter=200,
                                random_state=1)
classifier

# Fit the model using training data
classifier.fit(X_train, y_train)





# Make a prediction using the testing data
test_predictions = classifier.predict(X_test)
results = pd.DataFrame({"Prediction": test_predictions, "Actual": y_test}).reset_index(drop=True)
results.head(10)





# Generate a confusion matrix for the model
test_matrix = confusion_matrix(y_test, test_predictions)


# Print the classification report for the model
print(test_matrix)

# Create and save the testing classification report
testing_report = classification_report(y_test, test_predictions)

# Print the testing classification report
print(testing_report)









